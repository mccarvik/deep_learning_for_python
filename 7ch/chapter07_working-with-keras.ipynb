{
 "cells": [
  {
   "cell_type": "markdown",
   "metadata": {
    "colab_type": "text"
   },
   "source": [
    "This is a companion notebook for the book [Deep Learning with Python, Second Edition](https://www.manning.com/books/deep-learning-with-python-second-edition?a_aid=keras&a_bid=76564dff). For readability, it only contains runnable code blocks and section titles, and omits everything else in the book: text paragraphs, figures, and pseudocode.\n",
    "\n",
    "**If you want to be able to follow what's going on, I recommend reading the notebook side by side with your copy of the book.**\n",
    "\n",
    "This notebook was generated for TensorFlow 2.6."
   ]
  },
  {
   "cell_type": "markdown",
   "metadata": {
    "colab_type": "text"
   },
   "source": [
    "# Working with Keras: A deep dive"
   ]
  },
  {
   "cell_type": "markdown",
   "metadata": {
    "colab_type": "text"
   },
   "source": [
    "## A spectrum of workflows"
   ]
  },
  {
   "cell_type": "markdown",
   "metadata": {
    "colab_type": "text"
   },
   "source": [
    "## Different ways to build Keras models"
   ]
  },
  {
   "cell_type": "markdown",
   "metadata": {
    "colab_type": "text"
   },
   "source": [
    "### The Sequential model"
   ]
  },
  {
   "cell_type": "markdown",
   "metadata": {
    "colab_type": "text"
   },
   "source": [
    "**The `Sequential` class**"
   ]
  },
  {
   "cell_type": "code",
   "execution_count": 64,
   "metadata": {
    "colab_type": "code"
   },
   "outputs": [],
   "source": [
    "# page 198\n",
    "from tensorflow import keras\n",
    "from tensorflow.keras import layers\n",
    "\n",
    "model = keras.Sequential([\n",
    "    layers.Dense(64, activation=\"relu\"),\n",
    "    layers.Dense(10, activation=\"softmax\")\n",
    "])"
   ]
  },
  {
   "cell_type": "markdown",
   "metadata": {
    "colab_type": "text"
   },
   "source": [
    "**Incrementally building a Sequential model**"
   ]
  },
  {
   "cell_type": "code",
   "execution_count": 65,
   "metadata": {
    "colab_type": "code"
   },
   "outputs": [],
   "source": [
    "model = keras.Sequential()\n",
    "model.add(layers.Dense(64, activation=\"relu\"))\n",
    "model.add(layers.Dense(10, activation=\"softmax\"))"
   ]
  },
  {
   "cell_type": "code",
   "execution_count": 66,
   "metadata": {},
   "outputs": [],
   "source": [
    "# causes error, no weights yet\n",
    "# model.weights"
   ]
  },
  {
   "cell_type": "markdown",
   "metadata": {
    "colab_type": "text"
   },
   "source": [
    "**Calling a model for the first time to build it**"
   ]
  },
  {
   "cell_type": "code",
   "execution_count": 67,
   "metadata": {
    "colab_type": "code"
   },
   "outputs": [
    {
     "data": {
      "text/plain": [
       "[<tf.Variable 'dense_39/kernel:0' shape=(3, 64) dtype=float32, numpy=\n",
       " array([[ 0.25031728,  0.01534441, -0.19775894, -0.0533713 , -0.19900838,\n",
       "         -0.21239123,  0.18492162, -0.02853554,  0.04528522, -0.11915527,\n",
       "          0.23448068,  0.10056621,  0.14387202,  0.1552431 ,  0.15800008,\n",
       "          0.14165056,  0.08580014,  0.2941394 , -0.24996158, -0.15067549,\n",
       "          0.08262938,  0.01902801,  0.06818375,  0.15101212, -0.11754432,\n",
       "          0.01194856, -0.23089363, -0.19541505,  0.29361027, -0.03111541,\n",
       "          0.29183418,  0.21781808,  0.06765148, -0.13511463, -0.26062495,\n",
       "         -0.02713749,  0.07598507,  0.178949  , -0.15860184,  0.01908416,\n",
       "         -0.07957344,  0.14780939, -0.11271225, -0.16105576, -0.2730108 ,\n",
       "         -0.23488694,  0.17728665,  0.28847498, -0.23735198, -0.09797792,\n",
       "         -0.21251488,  0.08551297, -0.11699495,  0.06557307,  0.01814172,\n",
       "          0.2665431 , -0.04878703,  0.05300608,  0.12332311, -0.05819638,\n",
       "          0.0654926 ,  0.17736107,  0.04022902,  0.03864598],\n",
       "        [ 0.29598022, -0.17798622,  0.09609908,  0.16723168, -0.0274657 ,\n",
       "         -0.11526626,  0.1091572 ,  0.29160637,  0.07648188, -0.2415707 ,\n",
       "          0.17771053, -0.26625413, -0.11562806, -0.2634185 , -0.21768123,\n",
       "         -0.03999144, -0.12318411, -0.02509281, -0.07974081, -0.0108732 ,\n",
       "         -0.09396057, -0.00092489, -0.27637705, -0.27932554,  0.15380964,\n",
       "         -0.12647787,  0.17841893, -0.25713322, -0.0042496 , -0.04694703,\n",
       "         -0.20880981,  0.16532576,  0.02248558, -0.23868263,  0.14464957,\n",
       "          0.12831599, -0.16682605,  0.2872672 , -0.1621386 , -0.1697416 ,\n",
       "         -0.2480726 , -0.17477316, -0.26544306,  0.1390124 , -0.14192088,\n",
       "         -0.22056928, -0.01871243, -0.16245496, -0.2740902 , -0.059659  ,\n",
       "         -0.16969293, -0.03831786,  0.01590255,  0.28380996, -0.04014999,\n",
       "         -0.06243792,  0.16184652, -0.23641527, -0.08883911, -0.2492414 ,\n",
       "         -0.20519927,  0.21189028,  0.00108063, -0.02127674],\n",
       "        [ 0.22311091, -0.29841718, -0.27600396,  0.05836356, -0.11038396,\n",
       "         -0.15709747,  0.26142913, -0.23950227,  0.06561729,  0.0269393 ,\n",
       "          0.10676879,  0.26247776, -0.21605194, -0.25724623, -0.06954198,\n",
       "         -0.27717626, -0.28666905,  0.07834604, -0.13672373,  0.21680242,\n",
       "         -0.19852307, -0.29254994, -0.15691069, -0.26219338, -0.13789938,\n",
       "          0.11046374,  0.29853928,  0.19061545, -0.24368107, -0.02598166,\n",
       "          0.18209869,  0.12446088,  0.1253834 ,  0.10295954, -0.2866353 ,\n",
       "         -0.2560025 , -0.14696108,  0.10078752, -0.22938612, -0.03353843,\n",
       "         -0.13924158,  0.18785715,  0.0037424 , -0.20962182, -0.1955339 ,\n",
       "         -0.15811497,  0.09348375, -0.28387415,  0.14128652, -0.20197187,\n",
       "         -0.07836895, -0.00216091,  0.18240428,  0.20239758, -0.26260734,\n",
       "          0.23997808,  0.25143498,  0.29592717, -0.06426455,  0.11063775,\n",
       "          0.21772587, -0.14497249, -0.2711886 ,  0.16241601]],\n",
       "       dtype=float32)>,\n",
       " <tf.Variable 'dense_39/bias:0' shape=(64,) dtype=float32, numpy=\n",
       " array([0., 0., 0., 0., 0., 0., 0., 0., 0., 0., 0., 0., 0., 0., 0., 0., 0.,\n",
       "        0., 0., 0., 0., 0., 0., 0., 0., 0., 0., 0., 0., 0., 0., 0., 0., 0.,\n",
       "        0., 0., 0., 0., 0., 0., 0., 0., 0., 0., 0., 0., 0., 0., 0., 0., 0.,\n",
       "        0., 0., 0., 0., 0., 0., 0., 0., 0., 0., 0., 0., 0.], dtype=float32)>,\n",
       " <tf.Variable 'dense_40/kernel:0' shape=(64, 10) dtype=float32, numpy=\n",
       " array([[ 8.24935734e-02,  1.14492208e-01,  2.08236486e-01,\n",
       "         -2.68853486e-01,  1.12850368e-01, -6.72310591e-04,\n",
       "         -1.49746925e-01, -1.33487836e-01, -1.54641181e-01,\n",
       "         -3.65203768e-02],\n",
       "        [ 8.00800323e-03,  2.41313875e-02, -2.13220149e-01,\n",
       "          3.51638794e-02, -2.42054403e-01, -2.00348377e-01,\n",
       "         -2.95976698e-02, -7.08382428e-02, -5.96796572e-02,\n",
       "         -2.30920255e-01],\n",
       "        [ 1.82546854e-01, -9.54493880e-03, -7.53639936e-02,\n",
       "         -9.81914252e-02,  2.41581291e-01, -2.00524479e-01,\n",
       "         -1.69505149e-01,  1.70190156e-01,  1.32153869e-01,\n",
       "          2.69277990e-02],\n",
       "        [ 1.14836395e-01,  1.91907406e-01, -2.53860444e-01,\n",
       "         -3.12234759e-02, -2.10222095e-01,  5.65733314e-02,\n",
       "         -2.64960438e-01, -2.72908837e-01, -1.75838798e-01,\n",
       "         -1.84087321e-01],\n",
       "        [-8.21450353e-03, -1.54657274e-01,  2.38705575e-02,\n",
       "          1.84555054e-02,  1.54541671e-01,  2.23125845e-01,\n",
       "          1.81922555e-01, -2.72990167e-01, -3.12190056e-02,\n",
       "          2.67227381e-01],\n",
       "        [-7.29239881e-02, -2.03811675e-01, -1.40301511e-01,\n",
       "         -1.81632385e-01,  5.64394295e-02, -1.93361163e-01,\n",
       "         -1.59992948e-01, -1.60822272e-02,  2.55545974e-02,\n",
       "         -5.52932769e-02],\n",
       "        [-2.67189234e-01, -1.63205326e-01,  6.25954270e-02,\n",
       "         -8.44133347e-02,  1.73275977e-01,  2.13597685e-01,\n",
       "         -2.19015151e-01,  5.65211773e-02, -1.31219313e-01,\n",
       "         -6.62342012e-02],\n",
       "        [-9.21638161e-02,  2.44394034e-01, -8.54804814e-02,\n",
       "          1.20936215e-01, -1.46805972e-01,  2.83984840e-02,\n",
       "          3.61135304e-02, -9.19723809e-02,  1.61768198e-02,\n",
       "         -1.81467533e-02],\n",
       "        [ 1.40657514e-01,  1.58717722e-01, -2.19487399e-01,\n",
       "         -2.06161439e-01,  2.54928380e-01, -3.28014195e-02,\n",
       "         -2.20422626e-01, -3.46822143e-02,  2.23665148e-01,\n",
       "          1.03364438e-01],\n",
       "        [-8.34544748e-02, -1.88646272e-01, -2.80048788e-01,\n",
       "          8.02967548e-02,  1.82671964e-01,  2.43849784e-01,\n",
       "          2.29370087e-01,  6.71386123e-02, -1.80765912e-01,\n",
       "          1.30819440e-01],\n",
       "        [-6.93453550e-02,  2.77847022e-01, -2.04455197e-01,\n",
       "         -2.31844559e-01,  1.41419441e-01, -8.88846517e-02,\n",
       "          9.66164470e-03,  6.30187690e-02,  5.25686145e-02,\n",
       "          2.10061550e-01],\n",
       "        [-1.96661055e-01,  2.06640005e-01,  2.12281704e-01,\n",
       "         -1.57524347e-02,  2.14252532e-01,  1.06784493e-01,\n",
       "         -2.55386800e-01,  2.79023796e-01, -1.54732555e-01,\n",
       "          7.29067624e-02],\n",
       "        [ 5.54621816e-02, -1.35724708e-01,  2.22829014e-01,\n",
       "          1.45263612e-01,  2.03638613e-01,  2.12163597e-01,\n",
       "          1.71776414e-02, -2.22729921e-01, -6.71540350e-02,\n",
       "         -9.69916582e-04],\n",
       "        [-2.68563926e-01,  8.77988338e-02,  5.45049310e-02,\n",
       "         -2.80013978e-02,  2.64292389e-01,  9.29111540e-02,\n",
       "         -1.12920702e-02,  1.11706853e-02, -3.39011550e-02,\n",
       "          3.40701938e-02],\n",
       "        [ 1.61591470e-02,  2.58063644e-01,  2.03624576e-01,\n",
       "          2.11057067e-02, -1.66604593e-01,  2.20702589e-02,\n",
       "          2.57507473e-01, -1.12560958e-01,  5.98416924e-02,\n",
       "         -6.59912974e-02],\n",
       "        [-2.30613872e-01, -5.36329746e-02, -1.73891127e-01,\n",
       "          1.06247276e-01,  5.87475300e-02,  1.79730803e-01,\n",
       "          2.54203707e-01, -1.82962805e-01,  1.56211376e-01,\n",
       "          1.31152779e-01],\n",
       "        [ 1.94269180e-01,  2.28787661e-02,  1.97537780e-01,\n",
       "         -1.73304558e-01, -1.53090462e-01, -3.14739347e-03,\n",
       "          4.83013093e-02, -2.41235048e-01,  1.72350377e-01,\n",
       "         -2.78613806e-01],\n",
       "        [-1.87722743e-02, -2.68198013e-01, -6.06976449e-02,\n",
       "          2.80025452e-01,  1.10954374e-01, -9.69079733e-02,\n",
       "         -2.26848200e-01, -1.81945294e-01, -1.92365587e-01,\n",
       "         -3.56520116e-02],\n",
       "        [-2.20295951e-01, -1.36272103e-01, -9.91065055e-02,\n",
       "          3.73340249e-02,  6.87068701e-02, -1.42519474e-02,\n",
       "         -2.33326241e-01, -2.51161575e-01, -8.18042159e-02,\n",
       "          1.15993083e-01],\n",
       "        [-8.45489800e-02, -1.05760396e-02,  1.24509364e-01,\n",
       "         -7.47029632e-02, -6.71484619e-02, -8.61532688e-02,\n",
       "         -7.89611638e-02, -2.36299515e-01,  1.97016507e-01,\n",
       "         -1.37633681e-02],\n",
       "        [-7.31178224e-02,  8.67404342e-02, -1.18973553e-02,\n",
       "         -2.38811478e-01,  1.69840723e-01, -2.36563876e-01,\n",
       "         -1.86673969e-01, -4.59886044e-02, -2.81973183e-02,\n",
       "         -1.33599311e-01],\n",
       "        [-2.12426126e-01,  1.75175786e-01,  2.37391323e-01,\n",
       "         -2.08375186e-01,  1.14303589e-01, -2.53007948e-01,\n",
       "          2.58103460e-01, -2.06849515e-01, -2.19490528e-01,\n",
       "         -1.95103273e-01],\n",
       "        [ 1.99432969e-01, -2.57719994e-01,  2.45558113e-01,\n",
       "         -1.69958323e-01,  1.77653283e-01, -2.38695383e-01,\n",
       "         -1.96732134e-01, -7.74231404e-02, -2.81982332e-01,\n",
       "         -2.19394654e-01],\n",
       "        [ 2.03965455e-01,  5.42792678e-02,  2.72879094e-01,\n",
       "         -1.59185752e-01, -1.21803239e-01, -1.01126745e-01,\n",
       "         -2.58069575e-01,  1.19126588e-01,  7.43419230e-02,\n",
       "         -1.78141862e-01],\n",
       "        [ 1.26090437e-01,  1.79373294e-01,  1.34956211e-01,\n",
       "         -1.79506570e-01,  1.11406028e-01, -1.48850083e-02,\n",
       "          9.95733142e-02,  2.59058326e-01, -1.85335457e-01,\n",
       "          3.24494243e-02],\n",
       "        [ 1.88179404e-01, -2.11345598e-01, -2.24581063e-02,\n",
       "         -6.88281059e-02, -1.60274684e-01, -7.99086988e-02,\n",
       "          1.76765621e-01, -1.36904627e-01, -4.11020070e-02,\n",
       "         -7.18934387e-02],\n",
       "        [-2.72957444e-01, -2.16483772e-01, -2.35907257e-01,\n",
       "         -4.01069671e-02,  1.45112962e-01, -1.32112265e-01,\n",
       "          6.28652871e-02, -1.53259099e-01,  3.26967239e-02,\n",
       "          1.15309864e-01],\n",
       "        [ 4.81485426e-02,  4.71260250e-02,  2.59572297e-01,\n",
       "         -1.23009562e-01,  2.15452611e-02, -1.67210698e-02,\n",
       "         -1.84594855e-01, -6.49699569e-03, -1.37495995e-03,\n",
       "         -9.58700925e-02],\n",
       "        [ 1.04500204e-01,  1.33332014e-02,  2.46781856e-01,\n",
       "         -7.39943981e-03, -6.50146604e-03, -5.45777231e-02,\n",
       "          2.80725032e-01, -9.27522928e-02, -1.09456599e-01,\n",
       "         -6.41444474e-02],\n",
       "        [ 9.41965580e-02,  1.42405331e-01,  1.86469555e-02,\n",
       "         -1.40256643e-01,  3.94070148e-03, -1.01319209e-01,\n",
       "         -2.12885261e-01,  1.23701632e-01,  1.55116618e-01,\n",
       "          5.11291027e-02],\n",
       "        [-2.17816234e-01, -2.76226699e-01,  1.55467391e-01,\n",
       "          2.18896061e-01,  1.75318956e-01, -1.28421277e-01,\n",
       "         -2.88732946e-02, -2.54283875e-01, -8.15103948e-02,\n",
       "          5.20544052e-02],\n",
       "        [ 1.06797576e-01,  1.28839940e-01, -3.82852256e-02,\n",
       "          2.92754769e-02,  1.44495666e-02,  2.63746381e-02,\n",
       "          6.13668561e-03, -2.57087141e-01, -2.99452543e-02,\n",
       "         -1.13853157e-01],\n",
       "        [-1.46786079e-01,  4.40359116e-02,  2.69866258e-01,\n",
       "         -1.74361944e-01,  4.26456630e-02,  2.54563481e-01,\n",
       "          1.04142517e-01, -1.65186673e-01, -1.08026981e-01,\n",
       "         -2.37340257e-01],\n",
       "        [-2.02688858e-01,  5.23777008e-02,  1.99988157e-01,\n",
       "          8.65916312e-02,  5.06755114e-02,  5.21516502e-02,\n",
       "          6.41137660e-02,  2.72178560e-01, -1.34567261e-01,\n",
       "          2.57032543e-01],\n",
       "        [-1.63045645e-01, -1.83598861e-01,  1.69105083e-01,\n",
       "         -2.56420374e-02, -2.29437292e-01,  2.04872996e-01,\n",
       "          5.02334833e-02, -9.05734301e-03,  5.80286682e-02,\n",
       "          2.83770591e-01],\n",
       "        [ 1.31755769e-01,  2.25379854e-01, -2.49773115e-01,\n",
       "          1.27750725e-01,  1.25608504e-01,  3.64882052e-02,\n",
       "          1.81346983e-01,  8.10606480e-02, -1.45745739e-01,\n",
       "          1.60658658e-01],\n",
       "        [ 3.17326188e-03,  1.35504335e-01,  9.06819999e-02,\n",
       "          7.55877495e-02,  2.68320590e-01,  6.59026206e-02,\n",
       "          7.12710321e-02, -1.56366244e-01,  5.60069978e-02,\n",
       "         -2.10493714e-01],\n",
       "        [-4.42348272e-02, -2.82211393e-01,  1.32364631e-02,\n",
       "         -2.61146426e-01,  2.40061790e-01, -1.92832053e-01,\n",
       "         -1.15647539e-01,  2.60739118e-01,  1.42648816e-03,\n",
       "          2.74448484e-01],\n",
       "        [-2.10085571e-01,  2.55567223e-01,  1.82864487e-01,\n",
       "         -1.48131028e-01,  1.84794664e-01, -2.54607707e-01,\n",
       "         -2.09644645e-01, -5.83697259e-02,  1.67245805e-01,\n",
       "          2.75317460e-01],\n",
       "        [-8.64725411e-02,  6.33538067e-02, -2.18574345e-01,\n",
       "          7.91413486e-02,  2.47765630e-01, -2.25068212e-01,\n",
       "          9.68671143e-02, -1.85482979e-01,  2.83914804e-02,\n",
       "          1.89369917e-01],\n",
       "        [-4.75129485e-03, -2.32656106e-01,  6.87742829e-02,\n",
       "         -1.19414702e-01, -1.42839625e-01, -6.87221289e-02,\n",
       "         -7.92903602e-02, -5.74678928e-02,  1.90168023e-02,\n",
       "          2.29269266e-04],\n",
       "        [ 1.19361281e-03,  1.55526936e-01,  1.01917028e-01,\n",
       "         -2.58164823e-01,  8.16275775e-02,  2.51828283e-01,\n",
       "          1.17178231e-01,  9.49430764e-02, -3.37253809e-02,\n",
       "          1.45743430e-01],\n",
       "        [-1.76504850e-01, -7.40079135e-02, -1.07830167e-02,\n",
       "         -1.46279961e-01, -2.77038932e-01, -1.13222331e-01,\n",
       "         -4.73168492e-02, -1.51107416e-01,  2.79254317e-02,\n",
       "          6.67384267e-02],\n",
       "        [ 4.69839573e-03, -2.29157239e-01, -2.02711225e-02,\n",
       "          6.70539737e-02, -2.14507729e-01,  3.17841768e-04,\n",
       "          9.26209986e-02,  8.32015276e-02, -2.59912610e-02,\n",
       "         -3.80052477e-02],\n",
       "        [ 2.41165668e-01, -2.45816067e-01, -8.74211639e-02,\n",
       "          4.82335687e-02,  2.20875710e-01,  1.89174056e-01,\n",
       "         -1.44208670e-01,  1.91321433e-01, -2.14725733e-04,\n",
       "         -9.94048715e-02],\n",
       "        [-1.50614083e-02, -1.95103273e-01, -3.56914550e-02,\n",
       "          1.33239776e-01, -1.13737956e-01, -7.53502101e-02,\n",
       "         -1.52866900e-01,  3.35780680e-02, -6.41348660e-02,\n",
       "         -1.74258947e-02],\n",
       "        [ 9.19164419e-02,  2.07958668e-01, -2.13644862e-01,\n",
       "          3.93444896e-02, -2.47229457e-01,  1.73214555e-01,\n",
       "          1.11136585e-01,  9.53758657e-02,  2.26903468e-01,\n",
       "         -2.74302185e-01],\n",
       "        [-1.52161717e-02,  5.76604903e-02, -6.67772442e-02,\n",
       "          2.03433454e-01,  2.51953900e-02, -1.75426990e-01,\n",
       "         -2.73437142e-01,  2.09958971e-01,  1.25951320e-01,\n",
       "         -9.49761271e-02],\n",
       "        [-6.60937428e-02,  1.67585939e-01, -1.93829060e-01,\n",
       "         -1.30593583e-01,  1.43341511e-01, -2.30098188e-01,\n",
       "         -3.60626727e-02, -1.42672271e-01,  2.19330996e-01,\n",
       "          2.05859482e-01],\n",
       "        [ 1.62083238e-01, -8.10314417e-02, -9.24444795e-02,\n",
       "         -2.69027412e-01, -2.69572139e-01,  2.44313210e-01,\n",
       "          2.57081538e-01,  1.17063373e-01, -8.92088860e-02,\n",
       "         -1.00072220e-01],\n",
       "        [-1.79141194e-01, -2.51562059e-01,  2.76110977e-01,\n",
       "         -5.43738455e-02,  1.10308677e-01, -1.77548513e-01,\n",
       "          1.95059359e-01, -1.47504553e-01,  1.16214603e-01,\n",
       "         -2.00564563e-02],\n",
       "        [-2.55148560e-01,  1.02369457e-01, -9.05748159e-02,\n",
       "          5.60203493e-02, -2.75418013e-01,  1.49293691e-01,\n",
       "          7.01107383e-02, -1.54676139e-01, -2.43903697e-01,\n",
       "          1.73503339e-01],\n",
       "        [-2.23197803e-01, -1.24556005e-01, -1.16808370e-01,\n",
       "          1.25344992e-02,  1.92123353e-01, -2.54199475e-01,\n",
       "          1.64500564e-01, -2.04254925e-01, -5.24413139e-02,\n",
       "          8.29666257e-02],\n",
       "        [-2.26570368e-02,  2.38097906e-02, -1.34429380e-01,\n",
       "         -2.63047814e-01,  1.60111547e-01,  1.70094162e-01,\n",
       "          3.17529440e-02,  1.43841654e-01, -1.74651355e-01,\n",
       "         -2.22599566e-01],\n",
       "        [ 2.36247808e-01,  2.63989240e-01, -2.65468657e-01,\n",
       "          1.94361717e-01,  8.75722766e-02, -1.71970427e-02,\n",
       "         -1.88767612e-02, -9.06534940e-02,  9.89242196e-02,\n",
       "         -6.80894703e-02],\n",
       "        [ 1.83037221e-02, -1.20084092e-01,  2.27123499e-02,\n",
       "          9.38754380e-02, -1.20022848e-01,  2.64955550e-01,\n",
       "          2.63123542e-01,  5.38426042e-02,  6.96226954e-02,\n",
       "          1.43862695e-01],\n",
       "        [ 1.52975261e-01, -2.60984600e-02, -2.28893638e-01,\n",
       "          1.46261305e-01, -2.68069148e-01, -1.31840706e-01,\n",
       "         -1.81809843e-01,  3.80283296e-02,  1.77704930e-01,\n",
       "         -1.62444413e-01],\n",
       "        [-5.28284162e-02, -2.95297205e-02, -9.39235687e-02,\n",
       "         -2.46292382e-01, -2.07682163e-01,  8.09317827e-02,\n",
       "          2.48851329e-01,  2.24888772e-01,  8.88999104e-02,\n",
       "          2.52566546e-01],\n",
       "        [-7.65456110e-02,  9.12190676e-02,  8.24220777e-02,\n",
       "          2.06127644e-01,  7.40104318e-02, -1.01649493e-01,\n",
       "          2.46465653e-01,  6.62900805e-02, -2.37936720e-01,\n",
       "          2.54136354e-01],\n",
       "        [-8.63588303e-02,  1.41701877e-01, -2.78388888e-01,\n",
       "          1.54656649e-01,  2.28273571e-02,  1.39148027e-01,\n",
       "          1.48039788e-01,  1.63398683e-01, -1.24756753e-01,\n",
       "          2.43164629e-01],\n",
       "        [-2.34678045e-01,  1.71995729e-01, -1.58455804e-01,\n",
       "         -2.80756652e-02, -2.72810310e-01, -1.73796490e-01,\n",
       "         -1.44391626e-01,  8.12305510e-02,  9.55078900e-02,\n",
       "          3.49598229e-02],\n",
       "        [-2.98992991e-02, -2.04523206e-02,  2.51801223e-01,\n",
       "          2.15772480e-01,  1.77681088e-01, -1.91039979e-01,\n",
       "          2.92915106e-03, -2.28789210e-01,  1.03359878e-01,\n",
       "         -1.34860009e-01],\n",
       "        [-2.64134705e-01, -9.94382054e-02, -1.06994659e-01,\n",
       "          2.41956115e-03, -2.11340502e-01, -1.17717817e-01,\n",
       "          2.63228685e-01,  6.46090806e-02, -1.99923873e-01,\n",
       "          1.84991539e-01],\n",
       "        [-1.32316351e-02,  1.78632766e-01, -1.11928910e-01,\n",
       "          1.13737553e-01,  2.77135104e-01,  2.17157811e-01,\n",
       "          3.98637056e-02, -2.44881436e-01, -1.10884011e-02,\n",
       "         -1.52819306e-01]], dtype=float32)>,\n",
       " <tf.Variable 'dense_40/bias:0' shape=(10,) dtype=float32, numpy=array([0., 0., 0., 0., 0., 0., 0., 0., 0., 0.], dtype=float32)>]"
      ]
     },
     "execution_count": 67,
     "metadata": {},
     "output_type": "execute_result"
    }
   ],
   "source": [
    "model.build(input_shape=(None, 3))\n",
    "model.weights"
   ]
  },
  {
   "cell_type": "markdown",
   "metadata": {
    "colab_type": "text"
   },
   "source": [
    "**The summary method**"
   ]
  },
  {
   "cell_type": "code",
   "execution_count": 68,
   "metadata": {
    "colab_type": "code"
   },
   "outputs": [
    {
     "name": "stdout",
     "output_type": "stream",
     "text": [
      "Model: \"sequential_7\"\n",
      "_________________________________________________________________\n",
      " Layer (type)                Output Shape              Param #   \n",
      "=================================================================\n",
      " dense_39 (Dense)            (None, 64)                256       \n",
      "                                                                 \n",
      " dense_40 (Dense)            (None, 10)                650       \n",
      "                                                                 \n",
      "=================================================================\n",
      "Total params: 906 (3.54 KB)\n",
      "Trainable params: 906 (3.54 KB)\n",
      "Non-trainable params: 0 (0.00 Byte)\n",
      "_________________________________________________________________\n"
     ]
    }
   ],
   "source": [
    "model.summary()"
   ]
  },
  {
   "cell_type": "markdown",
   "metadata": {
    "colab_type": "text"
   },
   "source": [
    "**Naming models and layers with the `name` argument**"
   ]
  },
  {
   "cell_type": "code",
   "execution_count": 69,
   "metadata": {
    "colab_type": "code"
   },
   "outputs": [
    {
     "name": "stdout",
     "output_type": "stream",
     "text": [
      "Model: \"my_example_model\"\n",
      "_________________________________________________________________\n",
      " Layer (type)                Output Shape              Param #   \n",
      "=================================================================\n",
      " my_first_layer (Dense)      (None, 64)                256       \n",
      "                                                                 \n",
      " my_last_layer (Dense)       (None, 10)                650       \n",
      "                                                                 \n",
      "=================================================================\n",
      "Total params: 906 (3.54 KB)\n",
      "Trainable params: 906 (3.54 KB)\n",
      "Non-trainable params: 0 (0.00 Byte)\n",
      "_________________________________________________________________\n"
     ]
    }
   ],
   "source": [
    "model = keras.Sequential(name=\"my_example_model\")\n",
    "model.add(layers.Dense(64, activation=\"relu\", name=\"my_first_layer\"))\n",
    "model.add(layers.Dense(10, activation=\"softmax\", name=\"my_last_layer\"))\n",
    "model.build((None, 3))\n",
    "model.summary()"
   ]
  },
  {
   "cell_type": "markdown",
   "metadata": {
    "colab_type": "text"
   },
   "source": [
    "**Specifying the input shape of your model in advance**"
   ]
  },
  {
   "cell_type": "code",
   "execution_count": 70,
   "metadata": {
    "colab_type": "code"
   },
   "outputs": [],
   "source": [
    "model = keras.Sequential()\n",
    "model.add(keras.Input(shape=(3,)))\n",
    "model.add(layers.Dense(64, activation=\"relu\"))"
   ]
  },
  {
   "cell_type": "code",
   "execution_count": 71,
   "metadata": {
    "colab_type": "code"
   },
   "outputs": [
    {
     "name": "stdout",
     "output_type": "stream",
     "text": [
      "Model: \"sequential_8\"\n",
      "_________________________________________________________________\n",
      " Layer (type)                Output Shape              Param #   \n",
      "=================================================================\n",
      " dense_41 (Dense)            (None, 64)                256       \n",
      "                                                                 \n",
      "=================================================================\n",
      "Total params: 256 (1.00 KB)\n",
      "Trainable params: 256 (1.00 KB)\n",
      "Non-trainable params: 0 (0.00 Byte)\n",
      "_________________________________________________________________\n"
     ]
    }
   ],
   "source": [
    "model.summary()"
   ]
  },
  {
   "cell_type": "code",
   "execution_count": 72,
   "metadata": {
    "colab_type": "code"
   },
   "outputs": [
    {
     "name": "stdout",
     "output_type": "stream",
     "text": [
      "Model: \"sequential_8\"\n",
      "_________________________________________________________________\n",
      " Layer (type)                Output Shape              Param #   \n",
      "=================================================================\n",
      " dense_41 (Dense)            (None, 64)                256       \n",
      "                                                                 \n",
      " dense_42 (Dense)            (None, 10)                650       \n",
      "                                                                 \n",
      "=================================================================\n",
      "Total params: 906 (3.54 KB)\n",
      "Trainable params: 906 (3.54 KB)\n",
      "Non-trainable params: 0 (0.00 Byte)\n",
      "_________________________________________________________________\n"
     ]
    }
   ],
   "source": [
    "model.add(layers.Dense(10, activation=\"softmax\"))\n",
    "model.summary()"
   ]
  },
  {
   "cell_type": "markdown",
   "metadata": {
    "colab_type": "text"
   },
   "source": [
    "### The Functional API"
   ]
  },
  {
   "cell_type": "markdown",
   "metadata": {
    "colab_type": "text"
   },
   "source": [
    "#### A simple example"
   ]
  },
  {
   "cell_type": "markdown",
   "metadata": {
    "colab_type": "text"
   },
   "source": [
    "**A simple Functional model with two `Dense` layers**"
   ]
  },
  {
   "cell_type": "code",
   "execution_count": 73,
   "metadata": {
    "colab_type": "code"
   },
   "outputs": [],
   "source": [
    "inputs = keras.Input(shape=(3,), name=\"my_input\")\n",
    "features = layers.Dense(64, activation=\"relu\")(inputs)\n",
    "outputs = layers.Dense(10, activation=\"softmax\")(features)\n",
    "model = keras.Model(inputs=inputs, outputs=outputs)"
   ]
  },
  {
   "cell_type": "code",
   "execution_count": 74,
   "metadata": {
    "colab_type": "code"
   },
   "outputs": [],
   "source": [
    "inputs = keras.Input(shape=(3,), name=\"my_input\")"
   ]
  },
  {
   "cell_type": "code",
   "execution_count": 75,
   "metadata": {
    "colab_type": "code"
   },
   "outputs": [
    {
     "data": {
      "text/plain": [
       "TensorShape([None, 3])"
      ]
     },
     "execution_count": 75,
     "metadata": {},
     "output_type": "execute_result"
    }
   ],
   "source": [
    "inputs.shape"
   ]
  },
  {
   "cell_type": "code",
   "execution_count": 76,
   "metadata": {
    "colab_type": "code"
   },
   "outputs": [
    {
     "data": {
      "text/plain": [
       "tf.float32"
      ]
     },
     "execution_count": 76,
     "metadata": {},
     "output_type": "execute_result"
    }
   ],
   "source": [
    "inputs.dtype"
   ]
  },
  {
   "cell_type": "code",
   "execution_count": 77,
   "metadata": {
    "colab_type": "code"
   },
   "outputs": [],
   "source": [
    "features = layers.Dense(64, activation=\"relu\")(inputs)"
   ]
  },
  {
   "cell_type": "code",
   "execution_count": 78,
   "metadata": {
    "colab_type": "code"
   },
   "outputs": [
    {
     "data": {
      "text/plain": [
       "TensorShape([None, 64])"
      ]
     },
     "execution_count": 78,
     "metadata": {},
     "output_type": "execute_result"
    }
   ],
   "source": [
    "features.shape"
   ]
  },
  {
   "cell_type": "code",
   "execution_count": 79,
   "metadata": {
    "colab_type": "code"
   },
   "outputs": [],
   "source": [
    "outputs = layers.Dense(10, activation=\"softmax\")(features)\n",
    "model = keras.Model(inputs=inputs, outputs=outputs)"
   ]
  },
  {
   "cell_type": "code",
   "execution_count": 80,
   "metadata": {
    "colab_type": "code"
   },
   "outputs": [
    {
     "name": "stdout",
     "output_type": "stream",
     "text": [
      "Model: \"model_14\"\n",
      "_________________________________________________________________\n",
      " Layer (type)                Output Shape              Param #   \n",
      "=================================================================\n",
      " my_input (InputLayer)       [(None, 3)]               0         \n",
      "                                                                 \n",
      " dense_45 (Dense)            (None, 64)                256       \n",
      "                                                                 \n",
      " dense_46 (Dense)            (None, 10)                650       \n",
      "                                                                 \n",
      "=================================================================\n",
      "Total params: 906 (3.54 KB)\n",
      "Trainable params: 906 (3.54 KB)\n",
      "Non-trainable params: 0 (0.00 Byte)\n",
      "_________________________________________________________________\n"
     ]
    }
   ],
   "source": [
    "model.summary()"
   ]
  },
  {
   "cell_type": "markdown",
   "metadata": {
    "colab_type": "text"
   },
   "source": [
    "#### Multi-input, multi-output models"
   ]
  },
  {
   "cell_type": "markdown",
   "metadata": {
    "colab_type": "text"
   },
   "source": [
    "**A multi-input, multi-output Functional model**"
   ]
  },
  {
   "cell_type": "code",
   "execution_count": 81,
   "metadata": {
    "colab_type": "code"
   },
   "outputs": [],
   "source": [
    "vocabulary_size = 10000\n",
    "num_tags = 100\n",
    "num_departments = 4\n",
    "\n",
    "title = keras.Input(shape=(vocabulary_size,), name=\"title\")\n",
    "text_body = keras.Input(shape=(vocabulary_size,), name=\"text_body\")\n",
    "tags = keras.Input(shape=(num_tags,), name=\"tags\")\n",
    "\n",
    "features = layers.Concatenate()([title, text_body, tags])\n",
    "features = layers.Dense(64, activation=\"relu\")(features)\n",
    "\n",
    "priority = layers.Dense(1, activation=\"sigmoid\", name=\"priority\")(features)\n",
    "department = layers.Dense(\n",
    "    num_departments, activation=\"softmax\", name=\"department\")(features)\n",
    "\n",
    "model = keras.Model(inputs=[title, text_body, tags], outputs=[priority, department])"
   ]
  },
  {
   "cell_type": "markdown",
   "metadata": {
    "colab_type": "text"
   },
   "source": [
    "#### Training a multi-input, multi-output model"
   ]
  },
  {
   "cell_type": "markdown",
   "metadata": {
    "colab_type": "text"
   },
   "source": [
    "**Training a model by providing lists of input & target arrays**"
   ]
  },
  {
   "cell_type": "code",
   "execution_count": 82,
   "metadata": {
    "colab_type": "code"
   },
   "outputs": [
    {
     "name": "stdout",
     "output_type": "stream",
     "text": [
      "40/40 [==============================] - 1s 7ms/step - loss: 27.1018 - priority_loss: 0.3195 - department_loss: 26.7823 - priority_mean_absolute_error: 0.4870 - department_accuracy: 0.1906\n"
     ]
    },
    {
     "name": "stdout",
     "output_type": "stream",
     "text": [
      "40/40 [==============================] - 0s 2ms/step - loss: 21.3166 - priority_loss: 0.3271 - department_loss: 20.9896 - priority_mean_absolute_error: 0.4950 - department_accuracy: 0.1281\n",
      "40/40 [==============================] - 0s 4ms/step\n"
     ]
    }
   ],
   "source": [
    "import numpy as np\n",
    "\n",
    "num_samples = 1280\n",
    "\n",
    "title_data = np.random.randint(0, 2, size=(num_samples, vocabulary_size))\n",
    "text_body_data = np.random.randint(0, 2, size=(num_samples, vocabulary_size))\n",
    "tags_data = np.random.randint(0, 2, size=(num_samples, num_tags))\n",
    "\n",
    "priority_data = np.random.random(size=(num_samples, 1))\n",
    "department_data = np.random.randint(0, 2, size=(num_samples, num_departments))\n",
    "\n",
    "model.compile(optimizer=\"rmsprop\",\n",
    "              loss=[\"mean_squared_error\", \"categorical_crossentropy\"],\n",
    "              metrics=[[\"mean_absolute_error\"], [\"accuracy\"]])\n",
    "model.fit([title_data, text_body_data, tags_data],\n",
    "          [priority_data, department_data],\n",
    "          epochs=1)\n",
    "model.evaluate([title_data, text_body_data, tags_data],\n",
    "               [priority_data, department_data])\n",
    "priority_preds, department_preds = model.predict([title_data, text_body_data, tags_data])"
   ]
  },
  {
   "cell_type": "markdown",
   "metadata": {
    "colab_type": "text"
   },
   "source": [
    "**Training a model by providing dicts of input & target arrays**"
   ]
  },
  {
   "cell_type": "code",
   "execution_count": 83,
   "metadata": {
    "colab_type": "code"
   },
   "outputs": [
    {
     "name": "stdout",
     "output_type": "stream",
     "text": [
      "Epoch 1/5\n",
      "40/40 [==============================] - 1s 9ms/step - loss: 33.9342 - priority_loss: 0.3271 - department_loss: 33.6071 - priority_mean_absolute_error: 0.4950 - department_accuracy: 0.2211\n",
      "Epoch 2/5\n",
      "40/40 [==============================] - 0s 9ms/step - loss: 33.2312 - priority_loss: 0.3271 - department_loss: 32.9041 - priority_mean_absolute_error: 0.4950 - department_accuracy: 0.2547\n",
      "Epoch 3/5\n",
      "40/40 [==============================] - 0s 8ms/step - loss: 39.3758 - priority_loss: 0.3271 - department_loss: 39.0488 - priority_mean_absolute_error: 0.4950 - department_accuracy: 0.2688\n",
      "Epoch 4/5\n",
      "40/40 [==============================] - 0s 8ms/step - loss: 48.4454 - priority_loss: 0.3271 - department_loss: 48.1184 - priority_mean_absolute_error: 0.4950 - department_accuracy: 0.2391\n",
      "Epoch 5/5\n",
      "40/40 [==============================] - 0s 8ms/step - loss: 54.2140 - priority_loss: 0.3271 - department_loss: 53.8869 - priority_mean_absolute_error: 0.4950 - department_accuracy: 0.2688\n",
      "40/40 [==============================] - 0s 3ms/step - loss: 44.4682 - priority_loss: 0.3271 - department_loss: 44.1412 - priority_mean_absolute_error: 0.4950 - department_accuracy: 0.1289\n",
      "40/40 [==============================] - 0s 3ms/step\n"
     ]
    }
   ],
   "source": [
    "model.compile(optimizer=\"rmsprop\",\n",
    "              loss={\"priority\": \"mean_squared_error\", \"department\": \"categorical_crossentropy\"},\n",
    "              metrics={\"priority\": [\"mean_absolute_error\"], \"department\": [\"accuracy\"]})\n",
    "model.fit({\"title\": title_data, \"text_body\": text_body_data, \"tags\": tags_data},\n",
    "          {\"priority\": priority_data, \"department\": department_data},\n",
    "          epochs=5)\n",
    "model.evaluate({\"title\": title_data, \"text_body\": text_body_data, \"tags\": tags_data},\n",
    "               {\"priority\": priority_data, \"department\": department_data})\n",
    "priority_preds, department_preds = model.predict(\n",
    "    {\"title\": title_data, \"text_body\": text_body_data, \"tags\": tags_data})"
   ]
  },
  {
   "cell_type": "markdown",
   "metadata": {
    "colab_type": "text"
   },
   "source": [
    "#### The power of the Functional API: Access to layer connectivity"
   ]
  },
  {
   "cell_type": "code",
   "execution_count": 84,
   "metadata": {
    "colab_type": "code"
   },
   "outputs": [
    {
     "data": {
      "image/png": "[encoded data removed]",
      "text/plain": [
       "<IPython.core.display.Image object>"
      ]
     },
     "execution_count": 84,
     "metadata": {},
     "output_type": "execute_result"
    }
   ],
   "source": [
    "# install pydot / graphviz TODO\n",
    "import pydot\n",
    "import graphviz\n",
    "# import sys\n",
    "# # Define the directory you want to add to sys.path\n",
    "# my_directory = \"c:\\\\users\\\\mccar\\\\appdata\\\\local\\\\programs\\\\python\\\\python311\\\\lib\\\\site-packages\"\n",
    "\n",
    "# # Add the directory to sys.path\n",
    "# sys.path.append(my_directory)\n",
    "keras.utils.plot_model(model, \"..\\\\pngs\\\\7ch\\\\ticket_classifier.png\")"
   ]
  },
  {
   "cell_type": "code",
   "execution_count": 85,
   "metadata": {
    "colab_type": "code"
   },
   "outputs": [
    {
     "data": {
      "image/png": "[encoded data removed]",
      "text/plain": [
       "<IPython.core.display.Image object>"
      ]
     },
     "execution_count": 85,
     "metadata": {},
     "output_type": "execute_result"
    }
   ],
   "source": [
    "keras.utils.plot_model(model, \"..\\\\pngs\\\\7ch\\\\ticket_classifier_with_shape_info.png\", show_shapes=True)"
   ]
  },
  {
   "cell_type": "markdown",
   "metadata": {
    "colab_type": "text"
   },
   "source": [
    "**Retrieving the inputs or outputs of a layer in a Functional model**"
   ]
  },
  {
   "cell_type": "code",
   "execution_count": 86,
   "metadata": {
    "colab_type": "code"
   },
   "outputs": [
    {
     "data": {
      "text/plain": [
       "[<keras.src.engine.input_layer.InputLayer at 0x2d4a8178550>,\n",
       " <keras.src.engine.input_layer.InputLayer at 0x2d4a81b4110>,\n",
       " <keras.src.engine.input_layer.InputLayer at 0x2d4a81b6190>,\n",
       " <keras.src.layers.merging.concatenate.Concatenate at 0x2d4a818a350>,\n",
       " <keras.src.layers.core.dense.Dense at 0x2d490635a90>,\n",
       " <keras.src.layers.core.dense.Dense at 0x2d47b453890>,\n",
       " <keras.src.layers.core.dense.Dense at 0x2d4a802d750>]"
      ]
     },
     "execution_count": 86,
     "metadata": {},
     "output_type": "execute_result"
    }
   ],
   "source": [
    "model.layers"
   ]
  },
  {
   "cell_type": "code",
   "execution_count": 87,
   "metadata": {
    "colab_type": "code"
   },
   "outputs": [
    {
     "data": {
      "text/plain": [
       "[<KerasTensor: shape=(None, 10000) dtype=float32 (created by layer 'title')>,\n",
       " <KerasTensor: shape=(None, 10000) dtype=float32 (created by layer 'text_body')>,\n",
       " <KerasTensor: shape=(None, 100) dtype=float32 (created by layer 'tags')>]"
      ]
     },
     "execution_count": 87,
     "metadata": {},
     "output_type": "execute_result"
    }
   ],
   "source": [
    "model.layers[3].input"
   ]
  },
  {
   "cell_type": "code",
   "execution_count": 88,
   "metadata": {
    "colab_type": "code"
   },
   "outputs": [
    {
     "data": {
      "text/plain": [
       "<KerasTensor: shape=(None, 20100) dtype=float32 (created by layer 'concatenate_3')>"
      ]
     },
     "execution_count": 88,
     "metadata": {},
     "output_type": "execute_result"
    }
   ],
   "source": [
    "model.layers[3].output"
   ]
  },
  {
   "cell_type": "markdown",
   "metadata": {
    "colab_type": "text"
   },
   "source": [
    "**Creating a new model by reusing intermediate layer outputs**"
   ]
  },
  {
   "cell_type": "code",
   "execution_count": 89,
   "metadata": {
    "colab_type": "code"
   },
   "outputs": [],
   "source": [
    "features = model.layers[4].output\n",
    "difficulty = layers.Dense(3, activation=\"softmax\", name=\"difficulty\")(features)\n",
    "\n",
    "new_model = keras.Model(\n",
    "    inputs=[title, text_body, tags],\n",
    "    outputs=[priority, department, difficulty])"
   ]
  },
  {
   "cell_type": "code",
   "execution_count": 90,
   "metadata": {
    "colab_type": "code"
   },
   "outputs": [
    {
     "data": {
      "image/png": "[encoded data removed]",
      "text/plain": [
       "<IPython.core.display.Image object>"
      ]
     },
     "execution_count": 90,
     "metadata": {},
     "output_type": "execute_result"
    }
   ],
   "source": [
    "keras.utils.plot_model(new_model, \"..\\\\pngs\\\\7ch\\\\updated_ticket_classifier.png\", show_shapes=True)"
   ]
  },
  {
   "cell_type": "markdown",
   "metadata": {
    "colab_type": "text"
   },
   "source": [
    "### Subclassing the Model class"
   ]
  },
  {
   "cell_type": "markdown",
   "metadata": {
    "colab_type": "text"
   },
   "source": [
    "#### Rewriting our previous example as a subclassed model"
   ]
  },
  {
   "cell_type": "markdown",
   "metadata": {
    "colab_type": "text"
   },
   "source": [
    "**A simple subclassed model**"
   ]
  },
  {
   "cell_type": "code",
   "execution_count": 91,
   "metadata": {
    "colab_type": "code"
   },
   "outputs": [],
   "source": [
    "class CustomerTicketModel(keras.Model):\n",
    "\n",
    "    def __init__(self, num_departments):\n",
    "        super().__init__()\n",
    "        self.concat_layer = layers.Concatenate()\n",
    "        self.mixing_layer = layers.Dense(64, activation=\"relu\")\n",
    "        self.priority_scorer = layers.Dense(1, activation=\"sigmoid\")\n",
    "        self.department_classifier = layers.Dense(\n",
    "            num_departments, activation=\"softmax\")\n",
    "\n",
    "    def call(self, inputs):\n",
    "        title = inputs[\"title\"]\n",
    "        text_body = inputs[\"text_body\"]\n",
    "        tags = inputs[\"tags\"]\n",
    "\n",
    "        features = self.concat_layer([title, text_body, tags])\n",
    "        features = self.mixing_layer(features)\n",
    "        priority = self.priority_scorer(features)\n",
    "        department = self.department_classifier(features)\n",
    "        return priority, department"
   ]
  },
  {
   "cell_type": "code",
   "execution_count": 92,
   "metadata": {
    "colab_type": "code"
   },
   "outputs": [],
   "source": [
    "model = CustomerTicketModel(num_departments=4)\n",
    "\n",
    "priority, department = model(\n",
    "    {\"title\": title_data, \"text_body\": text_body_data, \"tags\": tags_data})"
   ]
  },
  {
   "cell_type": "code",
   "execution_count": 93,
   "metadata": {
    "colab_type": "code"
   },
   "outputs": [
    {
     "name": "stdout",
     "output_type": "stream",
     "text": [
      "40/40 [==============================] - 1s 8ms/step - loss: 34.4903 - output_1_loss: 0.3116 - output_2_loss: 34.1787 - output_1_mean_absolute_error: 0.4803 - output_2_accuracy: 0.2031\n",
      "40/40 [==============================] - 0s 3ms/step - loss: 47.0302 - output_1_loss: 0.3271 - output_2_loss: 46.7032 - output_1_mean_absolute_error: 0.4950 - output_2_accuracy: 0.2508\n",
      "40/40 [==============================] - 0s 3ms/step\n"
     ]
    }
   ],
   "source": [
    "model.compile(optimizer=\"rmsprop\",\n",
    "              loss=[\"mean_squared_error\", \"categorical_crossentropy\"],\n",
    "              metrics=[[\"mean_absolute_error\"], [\"accuracy\"]])\n",
    "model.fit({\"title\": title_data,\n",
    "           \"text_body\": text_body_data,\n",
    "           \"tags\": tags_data},\n",
    "          [priority_data, department_data],\n",
    "          epochs=1)\n",
    "model.evaluate({\"title\": title_data,\n",
    "                \"text_body\": text_body_data,\n",
    "                \"tags\": tags_data},\n",
    "               [priority_data, department_data])\n",
    "priority_preds, department_preds = model.predict({\"title\": title_data,\n",
    "                                                  \"text_body\": text_body_data,\n",
    "                                                  \"tags\": tags_data})"
   ]
  },
  {
   "cell_type": "markdown",
   "metadata": {
    "colab_type": "text"
   },
   "source": [
    "#### Beware: What subclassed models don't support"
   ]
  },
  {
   "cell_type": "markdown",
   "metadata": {
    "colab_type": "text"
   },
   "source": [
    "### Mixing and matching different components"
   ]
  },
  {
   "cell_type": "markdown",
   "metadata": {
    "colab_type": "text"
   },
   "source": [
    "**Creating a Functional model that includes a subclassed model**"
   ]
  },
  {
   "cell_type": "code",
   "execution_count": 94,
   "metadata": {
    "colab_type": "code"
   },
   "outputs": [],
   "source": [
    "class Classifier(keras.Model):\n",
    "\n",
    "    def __init__(self, num_classes=2):\n",
    "        super().__init__()\n",
    "        if num_classes == 2:\n",
    "            num_units = 1\n",
    "            activation = \"sigmoid\"\n",
    "        else:\n",
    "            num_units = num_classes\n",
    "            activation = \"softmax\"\n",
    "        self.dense = layers.Dense(num_units, activation=activation)\n",
    "\n",
    "    def call(self, inputs):\n",
    "        return self.dense(inputs)\n",
    "\n",
    "inputs = keras.Input(shape=(3,))\n",
    "features = layers.Dense(64, activation=\"relu\")(inputs)\n",
    "outputs = Classifier(num_classes=10)(features)\n",
    "model = keras.Model(inputs=inputs, outputs=outputs)"
   ]
  },
  {
   "cell_type": "markdown",
   "metadata": {
    "colab_type": "text"
   },
   "source": [
    "**Creating a subclassed model that includes a Functional model**"
   ]
  },
  {
   "cell_type": "code",
   "execution_count": 95,
   "metadata": {
    "colab_type": "code"
   },
   "outputs": [],
   "source": [
    "inputs = keras.Input(shape=(64,))\n",
    "outputs = layers.Dense(1, activation=\"sigmoid\")(inputs)\n",
    "binary_classifier = keras.Model(inputs=inputs, outputs=outputs)\n",
    "\n",
    "class MyModel(keras.Model):\n",
    "\n",
    "    def __init__(self, num_classes=2):\n",
    "        super().__init__()\n",
    "        self.dense = layers.Dense(64, activation=\"relu\")\n",
    "        self.classifier = binary_classifier\n",
    "\n",
    "    def call(self, inputs):\n",
    "        features = self.dense(inputs)\n",
    "        return self.classifier(features)\n",
    "\n",
    "model = MyModel()"
   ]
  },
  {
   "cell_type": "markdown",
   "metadata": {
    "colab_type": "text"
   },
   "source": [
    "### Remember: Use the right tool for the job"
   ]
  },
  {
   "cell_type": "markdown",
   "metadata": {
    "colab_type": "text"
   },
   "source": [
    "## Using built-in training and evaluation loops"
   ]
  },
  {
   "cell_type": "markdown",
   "metadata": {
    "colab_type": "text"
   },
   "source": [
    "**The standard workflow: `compile()`, `fit()`, `evaluate()`, `predict()`**"
   ]
  },
  {
   "cell_type": "code",
   "execution_count": 96,
   "metadata": {
    "colab_type": "code"
   },
   "outputs": [
    {
     "name": "stdout",
     "output_type": "stream",
     "text": [
      "Epoch 1/3\n",
      "1563/1563 [==============================] - 5s 3ms/step - loss: 0.2938 - accuracy: 0.9123 - val_loss: 0.1642 - val_accuracy: 0.9511\n",
      "Epoch 2/3\n",
      "1563/1563 [==============================] - 5s 3ms/step - loss: 0.1599 - accuracy: 0.9539 - val_loss: 0.1150 - val_accuracy: 0.9682\n",
      "Epoch 3/3\n",
      "1563/1563 [==============================] - 5s 3ms/step - loss: 0.1298 - accuracy: 0.9629 - val_loss: 0.1093 - val_accuracy: 0.9697\n",
      "313/313 [==============================] - 1s 2ms/step - loss: 0.0960 - accuracy: 0.9722\n",
      "313/313 [==============================] - 0s 1ms/step\n",
      "[0.09596212953329086, 0.9721999764442444]\n",
      "[[2.41473908e-09 1.49483037e-10 5.24959546e-07 1.11409736e-06\n",
      "  2.89883596e-13 1.99932848e-09 1.24469891e-14 9.99998212e-01\n",
      "  7.36990524e-10 2.14839957e-07]\n",
      " [1.04014930e-08 1.60987597e-07 9.99989152e-01 9.88000920e-06\n",
      "  7.33541186e-17 4.15991252e-07 5.39570832e-09 1.83234866e-16\n",
      "  3.55338045e-07 2.51585015e-17]\n",
      " [1.63299785e-06 9.99552071e-01 3.33969256e-05 2.05991523e-06\n",
      "  5.93914556e-05 3.60776103e-05 4.54761175e-05 2.27255747e-04\n",
      "  4.05999526e-05 1.99168721e-06]\n",
      " [9.99939203e-01 1.12850032e-08 5.88512285e-06 4.12982821e-08\n",
      "  4.29893063e-08 2.23028383e-06 3.82834114e-05 1.13257765e-05\n",
      "  3.15391002e-09 2.98763894e-06]\n",
      " [2.03636569e-06 2.33188203e-07 4.89527565e-06 2.49332306e-08\n",
      "  9.97466922e-01 2.10007352e-06 1.50614342e-05 6.60351543e-06\n",
      "  1.54907605e-06 2.50059250e-03]\n",
      " [7.45173381e-08 9.99368250e-01 1.27372471e-06 1.66209233e-07\n",
      "  1.07172336e-05 7.01353088e-07 2.55431928e-07 6.12259901e-04\n",
      "  5.68475161e-06 6.69094163e-07]\n",
      " [7.84079138e-12 3.60680930e-09 2.22493940e-10 1.82488447e-09\n",
      "  9.99840498e-01 3.33955904e-06 3.94808417e-08 1.37337577e-06\n",
      "  1.50886044e-04 3.78210871e-06]\n",
      " [4.10257179e-08 3.19136188e-06 3.73999537e-05 1.46399229e-03\n",
      "  3.63625353e-04 5.62725218e-05 7.59431273e-08 5.76085818e-04\n",
      "  3.77496945e-05 9.97461557e-01]\n",
      " [3.43618893e-07 1.42241929e-09 3.51812741e-06 4.19033253e-10\n",
      "  2.52630502e-06 5.29421210e-01 4.70566779e-01 7.10789899e-11\n",
      "  4.15176055e-06 1.50522624e-06]\n",
      " [4.48522330e-11 2.48314759e-12 1.76991737e-11 1.29808564e-09\n",
      "  1.69053453e-03 3.72753783e-09 6.35394168e-12 8.32531368e-05\n",
      "  1.71912689e-05 9.98209119e-01]]\n"
     ]
    }
   ],
   "source": [
    "# page 210\n",
    "from tensorflow.keras.datasets import mnist\n",
    "\n",
    "def get_mnist_model():\n",
    "    inputs = keras.Input(shape=(28 * 28,))\n",
    "    features = layers.Dense(512, activation=\"relu\")(inputs)\n",
    "    features = layers.Dropout(0.5)(features)\n",
    "    outputs = layers.Dense(10, activation=\"softmax\")(features)\n",
    "    model = keras.Model(inputs, outputs)\n",
    "    return model\n",
    "\n",
    "(images, labels), (test_images, test_labels) = mnist.load_data()\n",
    "images = images.reshape((60000, 28 * 28)).astype(\"float32\") / 255\n",
    "test_images = test_images.reshape((10000, 28 * 28)).astype(\"float32\") / 255\n",
    "train_images, val_images = images[10000:], images[:10000]\n",
    "train_labels, val_labels = labels[10000:], labels[:10000]\n",
    "\n",
    "model = get_mnist_model()\n",
    "model.compile(optimizer=\"rmsprop\",\n",
    "              loss=\"sparse_categorical_crossentropy\",\n",
    "              metrics=[\"accuracy\"])\n",
    "model.fit(train_images, train_labels,\n",
    "          epochs=3,\n",
    "          validation_data=(val_images, val_labels))\n",
    "test_metrics = model.evaluate(test_images, test_labels)\n",
    "predictions = model.predict(test_images)\n",
    "print(test_metrics)\n",
    "print(predictions[:10])"
   ]
  },
  {
   "cell_type": "markdown",
   "metadata": {
    "colab_type": "text"
   },
   "source": [
    "### Writing your own metrics"
   ]
  },
  {
   "cell_type": "markdown",
   "metadata": {
    "colab_type": "text"
   },
   "source": [
    "**Implementing a custom metric by subclassing the `Metric` class**"
   ]
  },
  {
   "cell_type": "code",
   "execution_count": 97,
   "metadata": {
    "colab_type": "code"
   },
   "outputs": [],
   "source": [
    "import tensorflow as tf\n",
    "\n",
    "class RootMeanSquaredError(keras.metrics.Metric):\n",
    "\n",
    "    def __init__(self, name=\"rmse\", **kwargs):\n",
    "        super().__init__(name=name, **kwargs)\n",
    "        self.mse_sum = self.add_weight(name=\"mse_sum\", initializer=\"zeros\")\n",
    "        self.total_samples = self.add_weight(\n",
    "            name=\"total_samples\", initializer=\"zeros\", dtype=\"int32\")\n",
    "\n",
    "    def update_state(self, y_true, y_pred, sample_weight=None):\n",
    "        y_true = tf.one_hot(y_true, depth=tf.shape(y_pred)[1])\n",
    "        mse = tf.reduce_sum(tf.square(y_true - y_pred))\n",
    "        self.mse_sum.assign_add(mse)\n",
    "        num_samples = tf.shape(y_pred)[0]\n",
    "        self.total_samples.assign_add(num_samples)\n",
    "\n",
    "    def result(self):\n",
    "        return tf.sqrt(self.mse_sum / tf.cast(self.total_samples, tf.float32))\n",
    "\n",
    "    def reset_state(self):\n",
    "        self.mse_sum.assign(0.)\n",
    "        self.total_samples.assign(0)"
   ]
  },
  {
   "cell_type": "code",
   "execution_count": 98,
   "metadata": {
    "colab_type": "code"
   },
   "outputs": [
    {
     "name": "stdout",
     "output_type": "stream",
     "text": [
      "Epoch 1/3\n",
      "1563/1563 [==============================] - 9s 5ms/step - loss: 0.2945 - accuracy: 0.9120 - rmse: 7.1777 - val_loss: 0.1599 - val_accuracy: 0.9522 - val_rmse: 7.3481\n",
      "Epoch 2/3\n",
      "1563/1563 [==============================] - 10s 6ms/step - loss: 0.1611 - accuracy: 0.9539 - rmse: 7.3514 - val_loss: 0.1244 - val_accuracy: 0.9650 - val_rmse: 7.3981\n",
      "Epoch 3/3\n",
      "1563/1563 [==============================] - 10s 6ms/step - loss: 0.1312 - accuracy: 0.9630 - rmse: 7.3856 - val_loss: 0.0965 - val_accuracy: 0.9727 - val_rmse: 7.4210\n",
      "313/313 [==============================] - 1s 3ms/step - loss: 0.0950 - accuracy: 0.9736 - rmse: 7.4330\n"
     ]
    }
   ],
   "source": [
    "model = get_mnist_model()\n",
    "model.compile(optimizer=\"rmsprop\",\n",
    "              loss=\"sparse_categorical_crossentropy\",\n",
    "              metrics=[\"accuracy\", RootMeanSquaredError()])\n",
    "model.fit(train_images, train_labels,\n",
    "          epochs=3,\n",
    "          validation_data=(val_images, val_labels))\n",
    "test_metrics = model.evaluate(test_images, test_labels)"
   ]
  },
  {
   "cell_type": "markdown",
   "metadata": {
    "colab_type": "text"
   },
   "source": [
    "### Using callbacks"
   ]
  },
  {
   "cell_type": "markdown",
   "metadata": {
    "colab_type": "text"
   },
   "source": [
    "#### The EarlyStopping and ModelCheckpoint callbacks"
   ]
  },
  {
   "cell_type": "markdown",
   "metadata": {
    "colab_type": "text"
   },
   "source": [
    "**Using the `callbacks` argument in the `fit()` method**"
   ]
  },
  {
   "cell_type": "code",
   "execution_count": 106,
   "metadata": {
    "colab_type": "code"
   },
   "outputs": [
    {
     "name": "stdout",
     "output_type": "stream",
     "text": [
      "Epoch 1/10\n",
      "1563/1563 [==============================] - ETA: 0s - loss: 0.2967 - accuracy: 0.9111INFO:tensorflow:Assets written to: ../output/model_checkpoint\\assets\n"
     ]
    },
    {
     "name": "stderr",
     "output_type": "stream",
     "text": [
      "INFO:tensorflow:Assets written to: ../output/model_checkpoint\\assets\n"
     ]
    },
    {
     "name": "stdout",
     "output_type": "stream",
     "text": [
      " Model checkpoint saved.\n",
      "1563/1563 [==============================] - 6s 3ms/step - loss: 0.2967 - accuracy: 0.9111 - val_loss: 0.1421 - val_accuracy: 0.9601\n",
      "Epoch 2/10\n",
      "1544/1563 [============================>.] - ETA: 0s - loss: 0.1600 - accuracy: 0.9539INFO:tensorflow:Assets written to: ../output/model_checkpoint\\assets\n"
     ]
    },
    {
     "name": "stderr",
     "output_type": "stream",
     "text": [
      "INFO:tensorflow:Assets written to: ../output/model_checkpoint\\assets\n"
     ]
    },
    {
     "name": "stdout",
     "output_type": "stream",
     "text": [
      " Model checkpoint saved.\n",
      "1563/1563 [==============================] - 5s 3ms/step - loss: 0.1600 - accuracy: 0.9539 - val_loss: 0.1203 - val_accuracy: 0.9667\n",
      "Epoch 3/10\n",
      "1553/1563 [============================>.] - ETA: 0s - loss: 0.1329 - accuracy: 0.9622INFO:tensorflow:Assets written to: ../output/model_checkpoint\\assets\n"
     ]
    },
    {
     "name": "stderr",
     "output_type": "stream",
     "text": [
      "INFO:tensorflow:Assets written to: ../output/model_checkpoint\\assets\n"
     ]
    },
    {
     "name": "stdout",
     "output_type": "stream",
     "text": [
      " Model checkpoint saved.\n",
      "1563/1563 [==============================] - 5s 3ms/step - loss: 0.1329 - accuracy: 0.9622 - val_loss: 0.1173 - val_accuracy: 0.9700\n",
      "Epoch 4/10\n",
      "1548/1563 [============================>.] - ETA: 0s - loss: 0.1132 - accuracy: 0.9683INFO:tensorflow:Assets written to: ../output/model_checkpoint\\assets\n"
     ]
    },
    {
     "name": "stderr",
     "output_type": "stream",
     "text": [
      "INFO:tensorflow:Assets written to: ../output/model_checkpoint\\assets\n"
     ]
    },
    {
     "name": "stdout",
     "output_type": "stream",
     "text": [
      " Model checkpoint saved.\n",
      "1563/1563 [==============================] - 5s 3ms/step - loss: 0.1132 - accuracy: 0.9683 - val_loss: 0.0977 - val_accuracy: 0.9753\n",
      "Epoch 5/10\n",
      "1556/1563 [============================>.] - ETA: 0s - loss: 0.1017 - accuracy: 0.9720INFO:tensorflow:Assets written to: ../output/model_checkpoint\\assets\n"
     ]
    },
    {
     "name": "stderr",
     "output_type": "stream",
     "text": [
      "INFO:tensorflow:Assets written to: ../output/model_checkpoint\\assets\n"
     ]
    },
    {
     "name": "stdout",
     "output_type": "stream",
     "text": [
      " Model checkpoint saved.\n",
      "1563/1563 [==============================] - 5s 3ms/step - loss: 0.1016 - accuracy: 0.9720 - val_loss: 0.0973 - val_accuracy: 0.9771\n",
      "Epoch 6/10\n",
      "1563/1563 [==============================] - 5s 3ms/step - loss: 0.0956 - accuracy: 0.9738 - val_loss: 0.0987 - val_accuracy: 0.9768\n",
      "Epoch 7/10\n",
      "1553/1563 [============================>.] - ETA: 0s - loss: 0.0876 - accuracy: 0.9761INFO:tensorflow:Assets written to: ../output/model_checkpoint\\assets\n"
     ]
    },
    {
     "name": "stderr",
     "output_type": "stream",
     "text": [
      "INFO:tensorflow:Assets written to: ../output/model_checkpoint\\assets\n"
     ]
    },
    {
     "name": "stdout",
     "output_type": "stream",
     "text": [
      " Model checkpoint saved.\n",
      "1563/1563 [==============================] - 6s 4ms/step - loss: 0.0875 - accuracy: 0.9761 - val_loss: 0.0945 - val_accuracy: 0.9775\n",
      "Epoch 8/10\n",
      "1563/1563 [==============================] - 5s 3ms/step - loss: 0.0828 - accuracy: 0.9774 - val_loss: 0.0950 - val_accuracy: 0.9787\n",
      "Epoch 9/10\n",
      "1563/1563 [==============================] - ETA: 0s - loss: 0.0781 - accuracy: 0.9788INFO:tensorflow:Assets written to: ../output/model_checkpoint\\assets\n"
     ]
    },
    {
     "name": "stderr",
     "output_type": "stream",
     "text": [
      "INFO:tensorflow:Assets written to: ../output/model_checkpoint\\assets\n"
     ]
    },
    {
     "name": "stdout",
     "output_type": "stream",
     "text": [
      " Model checkpoint saved.\n",
      "1563/1563 [==============================] - 5s 3ms/step - loss: 0.0781 - accuracy: 0.9788 - val_loss: 0.0906 - val_accuracy: 0.9805\n",
      "Epoch 10/10\n",
      "1563/1563 [==============================] - 5s 3ms/step - loss: 0.0769 - accuracy: 0.9801 - val_loss: 0.0917 - val_accuracy: 0.9795\n"
     ]
    },
    {
     "data": {
      "text/plain": [
       "<keras.src.callbacks.History at 0x2d4a6a9b190>"
      ]
     },
     "execution_count": 106,
     "metadata": {},
     "output_type": "execute_result"
    }
   ],
   "source": [
    "# Have to write our own becuase their is a bug in ModelCheckpoint\n",
    "def save_model_checkpoint(epoch, logs):\n",
    "    if logs['val_loss'] < save_model_checkpoint.best_val_loss:\n",
    "        save_model_checkpoint.best_val_loss = logs['val_loss']\n",
    "        model.save_weights(\"../output/model_checkpoint\")\n",
    "        model.save(\"../output/model_checkpoint\")\n",
    "        print(' Model checkpoint saved.')\n",
    "save_model_checkpoint.best_val_loss = float('inf')\n",
    "\n",
    "\n",
    "# callbacks_list = [\n",
    "#     keras.callbacks.EarlyStopping(\n",
    "#         monitor=\"val_accuracy\",\n",
    "#         patience=2,\n",
    "#     ),\n",
    "#     keras.callbacks.ModelCheckpoint(\n",
    "#         filepath=\"../output/checkpoint_path.keras\",\n",
    "#         monitor=\"val_loss\",\n",
    "#         save_best_only=True,\n",
    "#     )\n",
    "# ]\n",
    "\n",
    "callbacks_list = [\n",
    "    keras.callbacks.EarlyStopping(\n",
    "        monitor=\"val_accuracy\",\n",
    "        patience=2,\n",
    "    ),\n",
    "    keras.callbacks.LambdaCallback(on_epoch_end=save_model_checkpoint)\n",
    "]\n",
    "\n",
    "\n",
    "model = get_mnist_model()\n",
    "model.compile(optimizer=\"rmsprop\",\n",
    "              loss=\"sparse_categorical_crossentropy\",\n",
    "              metrics=[\"accuracy\"])\n",
    "model.fit(train_images, train_labels,\n",
    "          epochs=10,\n",
    "          callbacks=callbacks_list,\n",
    "          validation_data=(val_images, val_labels))"
   ]
  },
  {
   "cell_type": "code",
   "execution_count": 107,
   "metadata": {
    "colab_type": "code"
   },
   "outputs": [],
   "source": [
    "model = keras.models.load_model(\"../output/model_checkpoint\")"
   ]
  },
  {
   "cell_type": "markdown",
   "metadata": {
    "colab_type": "text"
   },
   "source": [
    "### Writing your own callbacks"
   ]
  },
  {
   "cell_type": "markdown",
   "metadata": {
    "colab_type": "text"
   },
   "source": [
    "**Creating a custom callback by subclassing the `Callback` class**"
   ]
  },
  {
   "cell_type": "code",
   "execution_count": 110,
   "metadata": {
    "colab_type": "code"
   },
   "outputs": [],
   "source": [
    "from matplotlib import pyplot as plt\n",
    "\n",
    "class LossHistory(keras.callbacks.Callback):\n",
    "    def on_train_begin(self, logs):\n",
    "        self.per_batch_losses = []\n",
    "\n",
    "    def on_batch_end(self, batch, logs):\n",
    "        self.per_batch_losses.append(logs.get(\"loss\"))\n",
    "\n",
    "    def on_epoch_end(self, epoch, logs):\n",
    "        plt.clf()\n",
    "        plt.plot(range(len(self.per_batch_losses)), self.per_batch_losses,\n",
    "                 label=\"Training loss for each batch\")\n",
    "        plt.xlabel(f\"Batch (epoch {epoch})\")\n",
    "        plt.ylabel(\"Loss\")\n",
    "        plt.legend()\n",
    "        plt.savefig(f\"../pngs/7ch/plot_at_epoch_{epoch}\")\n",
    "        self.per_batch_losses = []"
   ]
  },
  {
   "cell_type": "code",
   "execution_count": 111,
   "metadata": {
    "colab_type": "code"
   },
   "outputs": [
    {
     "name": "stdout",
     "output_type": "stream",
     "text": [
      "Epoch 1/10\n",
      "1563/1563 [==============================] - 6s 3ms/step - loss: 0.2982 - accuracy: 0.9122 - val_loss: 0.1506 - val_accuracy: 0.9550\n",
      "Epoch 2/10\n",
      "1563/1563 [==============================] - 5s 3ms/step - loss: 0.1599 - accuracy: 0.9544 - val_loss: 0.1185 - val_accuracy: 0.9678\n",
      "Epoch 3/10\n",
      "1563/1563 [==============================] - 7s 4ms/step - loss: 0.1319 - accuracy: 0.9631 - val_loss: 0.1047 - val_accuracy: 0.9716\n",
      "Epoch 4/10\n",
      "1563/1563 [==============================] - 11s 7ms/step - loss: 0.1157 - accuracy: 0.9686 - val_loss: 0.1034 - val_accuracy: 0.9735\n",
      "Epoch 5/10\n",
      "1563/1563 [==============================] - 12s 7ms/step - loss: 0.1038 - accuracy: 0.9711 - val_loss: 0.0889 - val_accuracy: 0.9769\n",
      "Epoch 6/10\n",
      "1563/1563 [==============================] - 11s 7ms/step - loss: 0.0956 - accuracy: 0.9735 - val_loss: 0.0926 - val_accuracy: 0.9771\n",
      "Epoch 7/10\n",
      "1563/1563 [==============================] - 11s 7ms/step - loss: 0.0918 - accuracy: 0.9749 - val_loss: 0.0888 - val_accuracy: 0.9789\n",
      "Epoch 8/10\n",
      "1563/1563 [==============================] - 11s 7ms/step - loss: 0.0857 - accuracy: 0.9768 - val_loss: 0.0883 - val_accuracy: 0.9788\n",
      "Epoch 9/10\n",
      "1563/1563 [==============================] - 11s 7ms/step - loss: 0.0795 - accuracy: 0.9776 - val_loss: 0.0966 - val_accuracy: 0.9782\n",
      "Epoch 10/10\n",
      "1563/1563 [==============================] - 11s 7ms/step - loss: 0.0737 - accuracy: 0.9799 - val_loss: 0.0893 - val_accuracy: 0.9808\n"
     ]
    },
    {
     "data": {
      "text/plain": [
       "<keras.src.callbacks.History at 0x2d47e821ed0>"
      ]
     },
     "execution_count": 111,
     "metadata": {},
     "output_type": "execute_result"
    },
    {
     "data": {
      "image/png": "[encoded data removed]",
      "text/plain": [
       "<Figure size 640x480 with 1 Axes>"
      ]
     },
     "metadata": {},
     "output_type": "display_data"
    }
   ],
   "source": [
    "model = get_mnist_model()\n",
    "model.compile(optimizer=\"rmsprop\",\n",
    "              loss=\"sparse_categorical_crossentropy\",\n",
    "              metrics=[\"accuracy\"])\n",
    "model.fit(train_images, train_labels,\n",
    "          epochs=10,\n",
    "          callbacks=[LossHistory()],\n",
    "          validation_data=(val_images, val_labels))"
   ]
  },
  {
   "cell_type": "markdown",
   "metadata": {
    "colab_type": "text"
   },
   "source": [
    "### Monitoring and visualization with TensorBoard"
   ]
  },
  {
   "cell_type": "code",
   "execution_count": 125,
   "metadata": {
    "colab_type": "code"
   },
   "outputs": [
    {
     "name": "stdout",
     "output_type": "stream",
     "text": [
      "Epoch 1/5\n",
      "1563/1563 [==============================] - 5s 3ms/step - loss: 0.2914 - accuracy: 0.9132 - val_loss: 0.1431 - val_accuracy: 0.9600\n",
      "Epoch 2/5\n",
      "1563/1563 [==============================] - 5s 3ms/step - loss: 0.1592 - accuracy: 0.9542 - val_loss: 0.1154 - val_accuracy: 0.9695\n",
      "Epoch 3/5\n",
      "1563/1563 [==============================] - 6s 4ms/step - loss: 0.1265 - accuracy: 0.9635 - val_loss: 0.1098 - val_accuracy: 0.9712\n",
      "Epoch 4/5\n",
      "1563/1563 [==============================] - 6s 4ms/step - loss: 0.1144 - accuracy: 0.9683 - val_loss: 0.0945 - val_accuracy: 0.9756\n",
      "Epoch 5/5\n",
      "1563/1563 [==============================] - 5s 3ms/step - loss: 0.1009 - accuracy: 0.9722 - val_loss: 0.0916 - val_accuracy: 0.9772\n"
     ]
    },
    {
     "data": {
      "text/plain": [
       "<keras.src.callbacks.History at 0x2d49552dd90>"
      ]
     },
     "execution_count": 125,
     "metadata": {},
     "output_type": "execute_result"
    }
   ],
   "source": [
    "model = get_mnist_model()\n",
    "model.compile(optimizer=\"rmsprop\",\n",
    "              loss=\"sparse_categorical_crossentropy\",\n",
    "              metrics=[\"accuracy\"])\n",
    "\n",
    "# NEEEEEED the full path here, for unknown reasons, relative path doesn't work\n",
    "tensorboard = keras.callbacks.TensorBoard(\n",
    "    log_dir=\"C:\\\\Users\\\\mccar\\\\deep_learning_for_python\\\\7ch\\\\logs\",\n",
    ")\n",
    "model.fit(train_images, train_labels,\n",
    "          epochs=5,\n",
    "          validation_data=(val_images, val_labels),\n",
    "          callbacks=[tensorboard])"
   ]
  },
  {
   "cell_type": "code",
   "execution_count": 126,
   "metadata": {
    "colab_type": "code"
   },
   "outputs": [
    {
     "name": "stdout",
     "output_type": "stream",
     "text": [
      "The tensorboard extension is already loaded. To reload it, use:\n",
      "  %reload_ext tensorboard\n"
     ]
    },
    {
     "data": {
      "text/html": [
       "\n",
       "      <iframe id=\"tensorboard-frame-59bf6bac6871de82\" width=\"100%\" height=\"800\" frameborder=\"0\">\n",
       "      </iframe>\n",
       "      <script>\n",
       "        (function() {\n",
       "          const frame = document.getElementById(\"tensorboard-frame-59bf6bac6871de82\");\n",
       "          const url = new URL(\"/\", window.location);\n",
       "          const port = 6006;\n",
       "          if (port) {\n",
       "            url.port = port;\n",
       "          }\n",
       "          frame.src = url;\n",
       "        })();\n",
       "      </script>\n",
       "    "
      ],
      "text/plain": [
       "<IPython.core.display.HTML object>"
      ]
     },
     "metadata": {},
     "output_type": "display_data"
    }
   ],
   "source": [
    "%load_ext tensorboard\n",
    "%tensorboard --logdir C:\\Users\\mccar\\deep_learning_for_python\\7ch\\logs\n",
    "# ^^^^ can also just run this from command line but again NEEEEED full path, relative path doesn't work"
   ]
  },
  {
   "cell_type": "markdown",
   "metadata": {
    "colab_type": "text"
   },
   "source": [
    "## Writing your own training and evaluation loops"
   ]
  },
  {
   "cell_type": "markdown",
   "metadata": {
    "colab_type": "text"
   },
   "source": [
    "### Training versus inference"
   ]
  },
  {
   "cell_type": "markdown",
   "metadata": {
    "colab_type": "text"
   },
   "source": [
    "### Low-level usage of metrics"
   ]
  },
  {
   "cell_type": "code",
   "execution_count": 127,
   "metadata": {
    "colab_type": "code"
   },
   "outputs": [
    {
     "name": "stdout",
     "output_type": "stream",
     "text": [
      "result: 1.00\n"
     ]
    }
   ],
   "source": [
    "metric = keras.metrics.SparseCategoricalAccuracy()\n",
    "targets = [0, 1, 2]\n",
    "predictions = [[1, 0, 0], [0, 1, 0], [0, 0, 1]]\n",
    "metric.update_state(targets, predictions)\n",
    "current_result = metric.result()\n",
    "print(f\"result: {current_result:.2f}\")"
   ]
  },
  {
   "cell_type": "code",
   "execution_count": 128,
   "metadata": {
    "colab_type": "code"
   },
   "outputs": [
    {
     "name": "stdout",
     "output_type": "stream",
     "text": [
      "Mean of values: 2.00\n"
     ]
    }
   ],
   "source": [
    "values = [0, 1, 2, 3, 4]\n",
    "mean_tracker = keras.metrics.Mean()\n",
    "for value in values:\n",
    "    mean_tracker.update_state(value)\n",
    "print(f\"Mean of values: {mean_tracker.result():.2f}\")"
   ]
  },
  {
   "cell_type": "markdown",
   "metadata": {
    "colab_type": "text"
   },
   "source": [
    "### A complete training and evaluation loop"
   ]
  },
  {
   "cell_type": "markdown",
   "metadata": {
    "colab_type": "text"
   },
   "source": [
    "**Writing a step-by-step training loop: the training step function**"
   ]
  },
  {
   "cell_type": "code",
   "execution_count": 129,
   "metadata": {
    "colab_type": "code"
   },
   "outputs": [],
   "source": [
    "model = get_mnist_model()\n",
    "\n",
    "loss_fn = keras.losses.SparseCategoricalCrossentropy()\n",
    "optimizer = keras.optimizers.RMSprop()\n",
    "metrics = [keras.metrics.SparseCategoricalAccuracy()]\n",
    "loss_tracking_metric = keras.metrics.Mean()\n",
    "\n",
    "def train_step(inputs, targets):\n",
    "    with tf.GradientTape() as tape:\n",
    "        predictions = model(inputs, training=True)\n",
    "        loss = loss_fn(targets, predictions)\n",
    "    gradients = tape.gradient(loss, model.trainable_weights)\n",
    "    optimizer.apply_gradients(zip(gradients, model.trainable_weights))\n",
    "\n",
    "    logs = {}\n",
    "    for metric in metrics:\n",
    "        metric.update_state(targets, predictions)\n",
    "        logs[metric.name] = metric.result()\n",
    "\n",
    "    loss_tracking_metric.update_state(loss)\n",
    "    logs[\"loss\"] = loss_tracking_metric.result()\n",
    "    return logs"
   ]
  },
  {
   "cell_type": "markdown",
   "metadata": {
    "colab_type": "text"
   },
   "source": [
    "**Writing a step-by-step training loop: resetting the metrics**"
   ]
  },
  {
   "cell_type": "code",
   "execution_count": 130,
   "metadata": {
    "colab_type": "code"
   },
   "outputs": [],
   "source": [
    "def reset_metrics():\n",
    "    for metric in metrics:\n",
    "        metric.reset_state()\n",
    "    loss_tracking_metric.reset_state()"
   ]
  },
  {
   "cell_type": "markdown",
   "metadata": {
    "colab_type": "text"
   },
   "source": [
    "**Writing a step-by-step training loop: the loop itself**"
   ]
  },
  {
   "cell_type": "code",
   "execution_count": 131,
   "metadata": {
    "colab_type": "code"
   },
   "outputs": [
    {
     "name": "stdout",
     "output_type": "stream",
     "text": [
      "Results at the end of epoch 0\n",
      "...sparse_categorical_accuracy: 0.9141\n",
      "...loss: 0.2859\n",
      "Results at the end of epoch 1\n",
      "...sparse_categorical_accuracy: 0.9536\n",
      "...loss: 0.1595\n",
      "Results at the end of epoch 2\n",
      "...sparse_categorical_accuracy: 0.9633\n",
      "...loss: 0.1306\n"
     ]
    }
   ],
   "source": [
    "training_dataset = tf.data.Dataset.from_tensor_slices((train_images, train_labels))\n",
    "training_dataset = training_dataset.batch(32)\n",
    "epochs = 3\n",
    "for epoch in range(epochs):\n",
    "    reset_metrics()\n",
    "    for inputs_batch, targets_batch in training_dataset:\n",
    "        logs = train_step(inputs_batch, targets_batch)\n",
    "    print(f\"Results at the end of epoch {epoch}\")\n",
    "    for key, value in logs.items():\n",
    "        print(f\"...{key}: {value:.4f}\")"
   ]
  },
  {
   "cell_type": "markdown",
   "metadata": {
    "colab_type": "text"
   },
   "source": [
    "**Writing a step-by-step evaluation loop**"
   ]
  },
  {
   "cell_type": "code",
   "execution_count": 132,
   "metadata": {
    "colab_type": "code"
   },
   "outputs": [
    {
     "name": "stdout",
     "output_type": "stream",
     "text": [
      "Evaluation results:\n",
      "...val_sparse_categorical_accuracy: 0.9684\n",
      "...val_loss: 0.1114\n"
     ]
    }
   ],
   "source": [
    "def test_step(inputs, targets):\n",
    "    predictions = model(inputs, training=False)\n",
    "    loss = loss_fn(targets, predictions)\n",
    "\n",
    "    logs = {}\n",
    "    for metric in metrics:\n",
    "        metric.update_state(targets, predictions)\n",
    "        logs[\"val_\" + metric.name] = metric.result()\n",
    "\n",
    "    loss_tracking_metric.update_state(loss)\n",
    "    logs[\"val_loss\"] = loss_tracking_metric.result()\n",
    "    return logs\n",
    "\n",
    "val_dataset = tf.data.Dataset.from_tensor_slices((val_images, val_labels))\n",
    "val_dataset = val_dataset.batch(32)\n",
    "reset_metrics()\n",
    "for inputs_batch, targets_batch in val_dataset:\n",
    "    logs = test_step(inputs_batch, targets_batch)\n",
    "print(\"Evaluation results:\")\n",
    "for key, value in logs.items():\n",
    "    print(f\"...{key}: {value:.4f}\")"
   ]
  },
  {
   "cell_type": "markdown",
   "metadata": {
    "colab_type": "text"
   },
   "source": [
    "### Make it fast with tf.function"
   ]
  },
  {
   "cell_type": "markdown",
   "metadata": {
    "colab_type": "text"
   },
   "source": [
    "**Adding a `tf.function` decorator to our evaluation-step function**"
   ]
  },
  {
   "cell_type": "code",
   "execution_count": 133,
   "metadata": {
    "colab_type": "code"
   },
   "outputs": [
    {
     "name": "stdout",
     "output_type": "stream",
     "text": [
      "Evaluation results:\n",
      "...val_sparse_categorical_accuracy: 0.9684\n",
      "...val_loss: 0.1114\n"
     ]
    }
   ],
   "source": [
    "# This decorator makes it way faster\n",
    "\n",
    "@tf.function\n",
    "def test_step(inputs, targets):\n",
    "    predictions = model(inputs, training=False)\n",
    "    loss = loss_fn(targets, predictions)\n",
    "\n",
    "    logs = {}\n",
    "    for metric in metrics:\n",
    "        metric.update_state(targets, predictions)\n",
    "        logs[\"val_\" + metric.name] = metric.result()\n",
    "\n",
    "    loss_tracking_metric.update_state(loss)\n",
    "    logs[\"val_loss\"] = loss_tracking_metric.result()\n",
    "    return logs\n",
    "\n",
    "val_dataset = tf.data.Dataset.from_tensor_slices((val_images, val_labels))\n",
    "val_dataset = val_dataset.batch(32)\n",
    "reset_metrics()\n",
    "for inputs_batch, targets_batch in val_dataset:\n",
    "    logs = test_step(inputs_batch, targets_batch)\n",
    "print(\"Evaluation results:\")\n",
    "for key, value in logs.items():\n",
    "    print(f\"...{key}: {value:.4f}\")"
   ]
  },
  {
   "cell_type": "markdown",
   "metadata": {
    "colab_type": "text"
   },
   "source": [
    "### Leveraging fit() with a custom training loop"
   ]
  },
  {
   "cell_type": "markdown",
   "metadata": {
    "colab_type": "text"
   },
   "source": [
    "**Implementing a custom training step to use with `fit()`**"
   ]
  },
  {
   "cell_type": "code",
   "execution_count": null,
   "metadata": {
    "colab_type": "code"
   },
   "outputs": [],
   "source": [
    "loss_fn = keras.losses.SparseCategoricalCrossentropy()\n",
    "loss_tracker = keras.metrics.Mean(name=\"loss\")\n",
    "\n",
    "class CustomModel(keras.Model):\n",
    "    def train_step(self, data):\n",
    "        inputs, targets = data\n",
    "        with tf.GradientTape() as tape:\n",
    "            predictions = self(inputs, training=True)\n",
    "            loss = loss_fn(targets, predictions)\n",
    "        gradients = tape.gradient(loss, self.trainable_weights)\n",
    "        self.optimizer.apply_gradients(zip(gradients, self.trainable_weights))\n",
    "\n",
    "        loss_tracker.update_state(loss)\n",
    "        return {\"loss\": loss_tracker.result()}\n",
    "\n",
    "    @property\n",
    "    def metrics(self):\n",
    "        return [loss_tracker]"
   ]
  },
  {
   "cell_type": "code",
   "execution_count": null,
   "metadata": {
    "colab_type": "code"
   },
   "outputs": [],
   "source": [
    "inputs = keras.Input(shape=(28 * 28,))\n",
    "features = layers.Dense(512, activation=\"relu\")(inputs)\n",
    "features = layers.Dropout(0.5)(features)\n",
    "outputs = layers.Dense(10, activation=\"softmax\")(features)\n",
    "model = CustomModel(inputs, outputs)\n",
    "\n",
    "model.compile(optimizer=keras.optimizers.RMSprop())\n",
    "model.fit(train_images, train_labels, epochs=3)"
   ]
  },
  {
   "cell_type": "code",
   "execution_count": null,
   "metadata": {
    "colab_type": "code"
   },
   "outputs": [],
   "source": [
    "class CustomModel(keras.Model):\n",
    "    def train_step(self, data):\n",
    "        inputs, targets = data\n",
    "        with tf.GradientTape() as tape:\n",
    "            predictions = self(inputs, training=True)\n",
    "            loss = self.compiled_loss(targets, predictions)\n",
    "        gradients = tape.gradient(loss, self.trainable_weights)\n",
    "        self.optimizer.apply_gradients(zip(gradients, self.trainable_weights))\n",
    "        self.compiled_metrics.update_state(targets, predictions)\n",
    "        return {m.name: m.result() for m in self.metrics}"
   ]
  },
  {
   "cell_type": "code",
   "execution_count": null,
   "metadata": {
    "colab_type": "code"
   },
   "outputs": [],
   "source": [
    "inputs = keras.Input(shape=(28 * 28,))\n",
    "features = layers.Dense(512, activation=\"relu\")(inputs)\n",
    "features = layers.Dropout(0.5)(features)\n",
    "outputs = layers.Dense(10, activation=\"softmax\")(features)\n",
    "model = CustomModel(inputs, outputs)\n",
    "\n",
    "model.compile(optimizer=keras.optimizers.RMSprop(),\n",
    "              loss=keras.losses.SparseCategoricalCrossentropy(),\n",
    "              metrics=[keras.metrics.SparseCategoricalAccuracy()])\n",
    "model.fit(train_images, train_labels, epochs=3)"
   ]
  },
  {
   "cell_type": "markdown",
   "metadata": {
    "colab_type": "text"
   },
   "source": [
    "## Summary"
   ]
  }
 ],
 "metadata": {
  "colab": {
   "collapsed_sections": [],
   "name": "chapter07_working-with-keras.i",
   "private_outputs": false,
   "provenance": [],
   "toc_visible": true
  },
  "kernelspec": {
   "display_name": "Python 3",
   "language": "python",
   "name": "python3"
  },
  "language_info": {
   "codemirror_mode": {
    "name": "ipython",
    "version": 3
   },
   "file_extension": ".py",
   "mimetype": "text/x-python",
   "name": "python",
   "nbconvert_exporter": "python",
   "pygments_lexer": "ipython3",
   "version": "3.11.5"
  }
 },
 "nbformat": 4,
 "nbformat_minor": 0
}
